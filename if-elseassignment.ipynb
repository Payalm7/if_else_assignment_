{
 "cells": [
  {
   "cell_type": "code",
   "execution_count": 7,
   "id": "062176fc-2fca-4e07-84b3-b059ca8e266a",
   "metadata": {},
   "outputs": [
    {
     "name": "stdin",
     "output_type": "stream",
     "text": [
      "Enter the number of units consumed 2222\n"
     ]
    },
    {
     "name": "stdout",
     "output_type": "stream",
     "text": [
      "the total electricity bill is Rs. 20720\n"
     ]
    }
   ],
   "source": [
    "#answer 1.\n",
    "unit=int(input(\"Enter the number of units consumed\"))\n",
    "total_bill=0\n",
    "if unit<=100:\n",
    "    total_bili=0\n",
    "elif unit<=200:\n",
    "    total_bill=(unit-100)*5\n",
    "else:\n",
    "    total_bill=100*5+(unit-200)*10\n",
    "print(\"the total electricity bill is Rs.\",total_bill)   \n",
    "    "
   ]
  },
  {
   "cell_type": "code",
   "execution_count": 15,
   "id": "f5c9aef0-f3a2-4518-b657-6523aa34080d",
   "metadata": {},
   "outputs": [
    {
     "name": "stdin",
     "output_type": "stream",
     "text": [
      "enter your percentage  :  2222222\n"
     ]
    },
    {
     "name": "stdout",
     "output_type": "stream",
     "text": [
      " Your grade is :A\n"
     ]
    }
   ],
   "source": [
    "#answer2.\n",
    "percentage=float(input(\"enter your percentage  : \"))\n",
    "if percentage>90:\n",
    "    grade='A'\n",
    "elif percentage>80 and percentage<=90:\n",
    "    grade=\"B\"\n",
    "elif percentage>=60 and percentage<=80:\n",
    "    grade=\"c\"\n",
    "else:\n",
    "    grade=\"D\"\n",
    "print(f\" Your grade is :{grade}\")    "
   ]
  },
  {
   "cell_type": "code",
   "execution_count": 19,
   "id": "159d6393-59d6-40ce-9961-e66224629fd2",
   "metadata": {},
   "outputs": [
    {
     "name": "stdin",
     "output_type": "stream",
     "text": [
      "enter the age of 1st person :  19\n",
      "enter the age of 2nd person :  18\n",
      "enter the age of 3rd person :  16\n",
      "enter the age of 4th person :  15\n"
     ]
    },
    {
     "name": "stdout",
     "output_type": "stream",
     "text": [
      "The youngest age is : 15\n"
     ]
    }
   ],
   "source": [
    "#answer3.\n",
    "age1=int(input(\"enter the age of 1st person : \"))\n",
    "age2=int(input(\"enter the age of 2nd person : \"))\n",
    "age3=int(input(\"enter the age of 3rd person : \"))\n",
    "age4=int(input(\"enter the age of 4th person : \"))\n",
    "if age2<age1:\n",
    "    age1=age2\n",
    "if age3<age1:\n",
    "    age1=age3\n",
    "if age4<age1:\n",
    "    age1=age4\n",
    "print(\"The youngest age is :\",age1)"
   ]
  },
  {
   "cell_type": "code",
   "execution_count": 1,
   "id": "16dab6ed-264a-4d11-a4f5-e5d59040a0f6",
   "metadata": {},
   "outputs": [
    {
     "name": "stdin",
     "output_type": "stream",
     "text": [
      "Enter your salary:  30000\n",
      "Enter your years of service:  23\n"
     ]
    },
    {
     "name": "stdout",
     "output_type": "stream",
     "text": [
      "Your net bonus amount is: 3000.0\n"
     ]
    }
   ],
   "source": [
    "#answer4.\n",
    "\n",
    "def calculate_bonus(salary, years_of_service):\n",
    "    if years_of_service > 10:\n",
    "        bonus_percentage = 10\n",
    "    elif 6 <= years_of_service <= 10:\n",
    "        bonus_percentage = 8\n",
    "    else:\n",
    "        bonus_percentage = 5\n",
    "    \n",
    "    bonus_amount = (bonus_percentage / 100) * salary\n",
    "    return bonus_amount\n",
    "\n",
    "\n",
    "salary = float(input(\"Enter your salary: \"))\n",
    "years_of_service = float(input(\"Enter your years of service: \"))\n",
    "\n",
    "\n",
    "bonus = calculate_bonus(salary, years_of_service)\n",
    "print(f\"Your net bonus amount is: {bonus}\")\n",
    "\n"
   ]
  },
  {
   "cell_type": "code",
   "execution_count": 5,
   "id": "d0c30f8d-75d9-4d6b-a632-030cdddcd757",
   "metadata": {},
   "outputs": [
    {
     "name": "stdin",
     "output_type": "stream",
     "text": [
      "Enter the first number:  3\n",
      "Enter the second number:  3\n",
      "Enter the third number:  3\n"
     ]
    },
    {
     "name": "stdout",
     "output_type": "stream",
     "text": [
      "The second largest number is: 3.0\n"
     ]
    }
   ],
   "source": [
    "#answer5\n",
    "\n",
    "num1 = float(input(\"Enter the first number: \"))\n",
    "num2 = float(input(\"Enter the second number: \"))\n",
    "num3 = float(input(\"Enter the third number: \"))\n",
    "\n",
    "\n",
    "if (num1 > num2 and num1 < num3) or (num1 > num3 and num1 < num2):\n",
    "    second_largest = num1\n",
    "elif (num2 > num1 and num2 < num3) or (num2 > num3 and num2 < num1):\n",
    "    second_largest = num2\n",
    "else:\n",
    "    second_largest = num3\n",
    "\n",
    "\n",
    "print(f\"The second largest number is: {second_largest}\")\n"
   ]
  },
  {
   "cell_type": "code",
   "execution_count": 7,
   "id": "fce1b276-5c5d-49f0-bfe0-c044bee3e9b9",
   "metadata": {},
   "outputs": [
    {
     "name": "stdin",
     "output_type": "stream",
     "text": [
      "Enter the marked price:  200\n"
     ]
    },
    {
     "name": "stdout",
     "output_type": "stream",
     "text": [
      "The net amount to be paid is: 180.0\n"
     ]
    }
   ],
   "source": [
    "#answer6.\n",
    "\n",
    "def calculate_net_amount(marked_price):\n",
    "    if marked_price > 10000:\n",
    "        discount = 20\n",
    "    elif marked_price > 7000 and marked_price <= 10000:\n",
    "        discount = 15\n",
    "    else:\n",
    "        discount = 10\n",
    "\n",
    "    discount_amount = (discount / 100) * marked_price\n",
    "    net_amount = marked_price - discount_amount\n",
    "    return net_amount\n",
    "\n",
    "\n",
    "marked_price = float(input(\"Enter the marked price: \"))\n",
    "\n",
    "\n",
    "net_amount = calculate_net_amount(marked_price)\n",
    "\n",
    "\n",
    "print(f\"The net amount to be paid is: {net_amount}\")\n"
   ]
  },
  {
   "cell_type": "code",
   "execution_count": 9,
   "id": "8eab40ac-90ab-4289-a40e-c878ff5993d2",
   "metadata": {},
   "outputs": [
    {
     "name": "stdin",
     "output_type": "stream",
     "text": [
      "Enter marks in English:  20\n",
      "Enter marks in Math:  20\n",
      "Enter marks in Science:  20\n",
      "Enter marks in Social Studies:  20\n"
     ]
    },
    {
     "name": "stdout",
     "output_type": "stream",
     "text": [
      "The stream allotted is: No stream allotted based on the given criteria\n"
     ]
    }
   ],
   "source": [
    "#answer7.\n",
    "\n",
    "'''Q7. Accept the marks of English, Math and Science\n",
    "\n",
    "Social Studies Subject and display the stream allotted\n",
    "according to following:\n",
    "\n",
    "All Subjects more than 80 marks — Science Stream\n",
    "\n",
    "English >80 and Math, Science above 50 — Commerce Stream\n",
    "\n",
    "English > 80 and social studies > 80 — Humanities'''\n",
    "\n",
    "\n",
    "english = float(input(\"Enter marks in English: \"))\n",
    "math = float(input(\"Enter marks in Math: \"))\n",
    "science = float(input(\"Enter marks in Science: \"))\n",
    "social_studies = float(input(\"Enter marks in Social Studies: \"))\n",
    "\n",
    "\n",
    "if english > 80 and math > 80 and science > 80 and social_studies > 80:\n",
    "    stream = \"Science Stream\"\n",
    "elif english > 80 and math > 50 and science > 50:\n",
    "    stream = \"Commerce Stream\"\n",
    "elif english > 80 and social_studies > 80:\n",
    "    stream = \"Humanities\"\n",
    "else:\n",
    "    stream = \"No stream allotted based on the given criteria\"\n",
    "\n",
    "print(f\"The stream allotted is: {stream}\")\n"
   ]
  },
  {
   "cell_type": "code",
   "execution_count": 11,
   "id": "1685dae9-efae-4f9f-88df-79b9d8d9778c",
   "metadata": {},
   "outputs": [
    {
     "name": "stdin",
     "output_type": "stream",
     "text": [
      "Enter a number:  20\n"
     ]
    },
    {
     "name": "stdout",
     "output_type": "stream",
     "text": [
      "Hello\n"
     ]
    }
   ],
   "source": [
    "#answer8\n",
    "'''Write a program to display \"Hello\" if a number entered\n",
    "by user is a multiple of five, otherwise print \"Bye\"?'''\n",
    "\n",
    "\n",
    "number = int(input(\"Enter a number: \"))\n",
    "\n",
    "\n",
    "if number % 5 == 0:\n",
    "    print(\"Hello\")\n",
    "else:\n",
    "    print(\"Bye\")\n"
   ]
  },
  {
   "cell_type": "code",
   "execution_count": 13,
   "id": "c989f393-2fc6-4fc2-b5c1-d4c8d9d73ba5",
   "metadata": {},
   "outputs": [
    {
     "name": "stdin",
     "output_type": "stream",
     "text": [
      "Enter a number:  2\n"
     ]
    },
    {
     "name": "stdout",
     "output_type": "stream",
     "text": [
      "The last digit is not divisible by 3.\n"
     ]
    }
   ],
   "source": [
    "#answer9\n",
    "'''Write a program to check whether the last digit of a number\n",
    "(entered by user) is divisible by 3 or not?'''\n",
    "\n",
    "number = int(input(\"Enter a number: \"))\n",
    "\n",
    "last_digit = number % 10\n",
    "\n",
    "if last_digit % 3 == 0:\n",
    "    print(\"The last digit is divisible by 3.\")\n",
    "else:\n",
    "    print(\"The last digit is not divisible by 3.\")\n",
    "\n",
    "\n"
   ]
  },
  {
   "cell_type": "code",
   "execution_count": 15,
   "id": "a46a8f80-11bd-413e-8f1d-f043e1edf3da",
   "metadata": {},
   "outputs": [
    {
     "name": "stdin",
     "output_type": "stream",
     "text": [
      "Enter a number:  2\n"
     ]
    },
    {
     "name": "stdout",
     "output_type": "stream",
     "text": [
      "The number is not a three-digit number.\n"
     ]
    }
   ],
   "source": [
    "#answer10.\n",
    "'''Q10. Write a program to check whether a number entered\n",
    "is three-digit number or not?'''\n",
    "\n",
    "\n",
    "number = int(input(\"Enter a number: \"))\n",
    "\n",
    "\n",
    "if 100 <= number <= 999:\n",
    "    print(\"The number is a three-digit number.\")\n",
    "else:\n",
    "    print(\"The number is not a three-digit number.\")\n"
   ]
  },
  {
   "cell_type": "code",
   "execution_count": null,
   "id": "08408c67-4f2c-447e-9685-20f1e9d4ef4d",
   "metadata": {},
   "outputs": [],
   "source": []
  }
 ],
 "metadata": {
  "kernelspec": {
   "display_name": "Python 3 (ipykernel)",
   "language": "python",
   "name": "python3"
  },
  "language_info": {
   "codemirror_mode": {
    "name": "ipython",
    "version": 3
   },
   "file_extension": ".py",
   "mimetype": "text/x-python",
   "name": "python",
   "nbconvert_exporter": "python",
   "pygments_lexer": "ipython3",
   "version": "3.12.4"
  }
 },
 "nbformat": 4,
 "nbformat_minor": 5
}
